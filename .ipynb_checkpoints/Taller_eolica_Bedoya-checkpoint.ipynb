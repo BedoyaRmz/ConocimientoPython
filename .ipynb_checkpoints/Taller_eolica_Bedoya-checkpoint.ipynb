{
 "cells": [
  {
   "cell_type": "code",
   "execution_count": 4,
   "metadata": {},
   "outputs": [
    {
     "name": "stdout",
     "output_type": "stream",
     "text": [
      "Melo\n"
     ]
    }
   ],
   "source": [
    "##Requerimiento 1.-- Generar una tabla unificada que contenga las siguientes columnas:\n",
    "import csv\n",
    "requerimiento1 = [['Nombre de la estación','Fecha en el formato YYYY-MM-DD','Año','Mes','Día','HHMMSS','Hora(H)','Minuto (MM)','Dirección','Velocidad']]\n",
    "\n",
    "with open('C:\\\\Users\\\\02ADSI\\\\Desktop\\\\estaciones eolicas\\\\requerimiento1.csv', 'w', newline='') as ejer1:\n",
    "    writer = csv.writer(ejer1,delimiter=\";\")\n",
    "    writer.writerows(requerimiento1)\n",
    "    print('Melo')"
   ]
  },
  {
   "cell_type": "code",
   "execution_count": 2,
   "metadata": {},
   "outputs": [
    {
     "name": "stdout",
     "output_type": "stream",
     "text": [
      "Melo\n"
     ]
    }
   ],
   "source": [
    "##Requerimiento 2.-- Generar una tabla unificada que contenga las siguientes columnas:\n",
    "\n",
    "requerimiento2 = [['Nombre de la estación','Año','Mes','Día','Hora','Velocidad media del viento para la correspodiente hora']]\n",
    "\n",
    "with open('C:\\\\Users\\\\02ADSI\\\\Desktop\\\\estaciones eolicas\\\\requerimiento2.csv', 'w', newline='') as ejer2:\n",
    "    writer = csv.writer(ejer2,delimiter=\";\")\n",
    "    writer.writerows(requerimiento2)\n",
    "    print('Melo')"
   ]
  },
  {
   "cell_type": "code",
   "execution_count": 3,
   "metadata": {},
   "outputs": [
    {
     "name": "stdout",
     "output_type": "stream",
     "text": [
      "Melo\n"
     ]
    }
   ],
   "source": [
    "##Requerimiento 3.-- Generar una tabla que contenga las siguientes columnas:\n",
    "requerimiento3 = [['Estacion','Año','Mes','Velocidad media del viento para ese mes y ese año']]\n",
    "\n",
    "\n",
    "with open('C:\\\\Users\\\\02ADSI\\\\Desktop\\\\estaciones eolicas\\\\requerimiento3.csv','w',newline='') as ejer3:\n",
    "    \n",
    "    writer = csv.writer(ejer3,delimiter=\";\")\n",
    "    writer.writerows(requerimiento3)\n",
    "    print('Melo')"
   ]
  },
  {
   "cell_type": "code",
   "execution_count": 5,
   "metadata": {},
   "outputs": [
    {
     "name": "stdout",
     "output_type": "stream",
     "text": [
      "Melo\n"
     ]
    }
   ],
   "source": [
    "##Requerimiento 4.-- Generar una tabla que contenga las siguientes columnas:\n",
    "requerimiento4 = [['Estacion','Año','Velocidad media para dicho año']]\n",
    "\n",
    "\n",
    "with open('C:\\\\Users\\\\02ADSI\\\\Desktop\\\\estaciones eolicas\\\\requerimiento4.csv','w',newline='') as ejer4:\n",
    "    \n",
    "    writer = csv.writer(ejer4,delimiter=\";\")\n",
    "    writer.writerows(requerimiento4)\n",
    "    print('Melo')"
   ]
  },
  {
   "cell_type": "code",
   "execution_count": 6,
   "metadata": {},
   "outputs": [
    {
     "name": "stdout",
     "output_type": "stream",
     "text": [
      "Melo\n"
     ]
    }
   ],
   "source": [
    "##Requerimiento 5.-- Generar una tabla que contenga las siguientes columnas:\n",
    "requerimiento5 = [['Estacion','Mes','Velocidad media para ese mes calculada sobre todos los datos']]\n",
    "\n",
    "\n",
    "with open('C:\\\\Users\\\\02ADSI\\\\Desktop\\\\estaciones eolicas\\\\requerimiento5.csv','w',newline='') as ejer5:\n",
    "    \n",
    "    writer = csv.writer(ejer5,delimiter=\";\")\n",
    "    writer.writerows(requerimiento5)\n",
    "    print('Melo')"
   ]
  },
  {
   "cell_type": "code",
   "execution_count": 7,
   "metadata": {},
   "outputs": [
    {
     "name": "stdout",
     "output_type": "stream",
     "text": [
      "Melo\n"
     ]
    }
   ],
   "source": [
    "##Requerimiento 6.-- Generar una tabla que contenga las siguientes columnas:\n",
    "requerimiento6 = [['Estacion','Hora','Velocidad media para ese hora calculada sobre todos los datos']]\n",
    "\n",
    "\n",
    "with open('C:\\\\Users\\\\02ADSI\\\\Desktop\\\\estaciones eolicas\\\\requerimiento6.csv','w',newline='') as ejer6:\n",
    "    \n",
    "    writer = csv.writer(ejer6,delimiter=\";\")\n",
    "    writer.writerows(requerimiento6)\n",
    "    print('Melo')"
   ]
  },
  {
   "cell_type": "code",
   "execution_count": 9,
   "metadata": {},
   "outputs": [
    {
     "name": "stdout",
     "output_type": "stream",
     "text": [
      "Melo\n"
     ]
    }
   ],
   "source": [
    "##Requerimiento 7.-- Generar una tabla que contenga las siguientes columnas:\n",
    "requerimiento7 = [['Estacion','Mes (MM)','Hora (HH)','Velocidad media para ese mes y esa hora calculada sobre todos los datos']]\n",
    "\n",
    "\n",
    "with open('C:\\\\Users\\\\02ADSI\\\\Desktop\\\\estaciones eolicas\\\\requerimiento7.csv','w',newline='') as ejer7:\n",
    "    \n",
    "    writer = csv.writer(ejer7,delimiter=\";\")\n",
    "    writer.writerows(requerimiento7)\n",
    "    print('Melo')"
   ]
  }
 ],
 "metadata": {
  "kernelspec": {
   "display_name": "Python 3",
   "language": "python",
   "name": "python3"
  },
  "language_info": {
   "codemirror_mode": {
    "name": "ipython",
    "version": 3
   },
   "file_extension": ".py",
   "mimetype": "text/x-python",
   "name": "python",
   "nbconvert_exporter": "python",
   "pygments_lexer": "ipython3",
   "version": "3.7.4"
  }
 },
 "nbformat": 4,
 "nbformat_minor": 2
}
