{
 "cells": [
  {
   "cell_type": "markdown",
   "metadata": {},
   "source": [
    "Este directorio /files/06/ contiene la información de cuatro (4) estaciones automáticas de medición de viento. Se desear realizar un proceso de transformación de los datos con el fin de producir la información requerida para construir un atlas eólico de la región. A continuación se presentan los requerimientos solicitados y su respectiva solución."
   ]
  },
  {
   "cell_type": "markdown",
   "metadata": {},
   "source": [
    "Requerimiento 1.-- Generar una tabla unificada que contenga las siguientes columnas:\n",
    "\n",
    "*Nombre de la estación.\n",
    "*Fecha en el formato YYYY-MM-DD.\n",
    "*Año.\n",
    "*Mes.\n",
    "*Dia.\n",
    "*HHMMSS.\n",
    "*Hora (HH).\n",
    "*Minuto (MM).\n",
    "*Dirección.\n",
    "*Velocidad."
   ]
  },
  {
   "cell_type": "code",
   "execution_count": 82,
   "metadata": {},
   "outputs": [],
   "source": [
    "import pandas\n",
    "import time,datetime\n",
    "#Funcion para leer y tranformar los \n",
    "def filetrans(file):\n",
    "    estacion = open(file, 'r').readlines()\n",
    "    transformacion = [row[0:-1]for row in estacion]\n",
    "    transformacion = [row.split(';')for row in transformacion]\n",
    "    transformacion = transformacion[1:]\n",
    "    return transformacion\n",
    "\n",
    "data = filetrans('files/06/Estacion1.csv')"
   ]
  },
  {
   "cell_type": "code",
   "execution_count": 83,
   "metadata": {},
   "outputs": [],
   "source": [
    "#Agregar columna \n",
    "[[row[0].lower()]for row in data]\n",
    "data = [[str('Estacion1')] + row   for row in data]"
   ]
  },
  {
   "cell_type": "code",
   "execution_count": 84,
   "metadata": {},
   "outputs": [],
   "source": [
    "#cambiar formato de fecha\n",
    "def changeFormat(s):\n",
    "    return datetime.datetime.strptime(s, '%d/%m/%y').strftime('%Y/%m/%d')"
   ]
  },
  {
   "cell_type": "code",
   "execution_count": 85,
   "metadata": {},
   "outputs": [],
   "source": [
    "#Retornar fecha en formato YY-MM-DD\n",
    "data = [[row[0],changeFormat(row[1]),row[2],row[3],row[4]]for row in data]\n"
   ]
  },
  {
   "cell_type": "code",
   "execution_count": 86,
   "metadata": {},
   "outputs": [],
   "source": [
    "#Cambiar año \n",
    "def YEAR(s):\n",
    "    return datetime.datetime.strptime(s, '%Y/%m/%d').strftime('%Y')\n"
   ]
  },
  {
   "cell_type": "code",
   "execution_count": 87,
   "metadata": {},
   "outputs": [],
   "source": [
    "#Capturar en la columna\n",
    "data = [[YEAR(row[1])] + row for row in data]"
   ]
  },
  {
   "cell_type": "code",
   "execution_count": 88,
   "metadata": {},
   "outputs": [],
   "source": [
    "#ordenar datos\n",
    "data = [[row[1],row[2],row[0],row[3],row[4],row[5],]for row in data]"
   ]
  },
  {
   "cell_type": "code",
   "execution_count": 89,
   "metadata": {},
   "outputs": [],
   "source": [
    "def MONTH(s):\n",
    "    return datetime.datetime.strptime(s, '%Y/%m/%d').month"
   ]
  },
  {
   "cell_type": "code",
   "execution_count": 90,
   "metadata": {},
   "outputs": [],
   "source": [
    "data = [[MONTH(row[1])] + row for row in data]"
   ]
  },
  {
   "cell_type": "code",
   "execution_count": 91,
   "metadata": {},
   "outputs": [],
   "source": [
    "data = [[row[1],row[2],row[3],row[0],row[4],row[5],row[6]]for row in data]"
   ]
  },
  {
   "cell_type": "code",
   "execution_count": 92,
   "metadata": {},
   "outputs": [],
   "source": [
    "#Capturar dia del mes\n",
    "def DAYOFMONTH(s):\n",
    "    return datetime.datetime.strptime(s, '%Y/%m/%d').strftime('%d')"
   ]
  },
  {
   "cell_type": "code",
   "execution_count": 93,
   "metadata": {},
   "outputs": [],
   "source": [
    "data = [[DAYOFMONTH(row[1])] + row for row in data]"
   ]
  },
  {
   "cell_type": "code",
   "execution_count": 94,
   "metadata": {},
   "outputs": [],
   "source": [
    "data = [[row[1],row[2],row[3],row[4],row[0],row[5],row[6],row[7]]for row in data]"
   ]
  },
  {
   "cell_type": "code",
   "execution_count": 95,
   "metadata": {},
   "outputs": [],
   "source": [
    "def HOUR(s):\n",
    "    return datetime.datetime.strptime(s, '%H:%M:%S').strftime('%H')"
   ]
  },
  {
   "cell_type": "code",
   "execution_count": 96,
   "metadata": {},
   "outputs": [],
   "source": [
    "data = [[HOUR(row[5])] + row for row in data]"
   ]
  },
  {
   "cell_type": "code",
   "execution_count": 97,
   "metadata": {},
   "outputs": [],
   "source": [
    "data = [[row[1],row[2],row[3],row[4],row[5],row[6],row[0],row[7],row[8]]for row in data]\n"
   ]
  },
  {
   "cell_type": "code",
   "execution_count": 98,
   "metadata": {},
   "outputs": [],
   "source": [
    "def MINUTE(s):\n",
    "    return datetime.datetime.strptime(s, '%H:%M:%S').strftime('%M')"
   ]
  },
  {
   "cell_type": "code",
   "execution_count": 99,
   "metadata": {},
   "outputs": [],
   "source": [
    "data = [[MINUTE(row[5])] + row for row in data]"
   ]
  },
  {
   "cell_type": "code",
   "execution_count": 100,
   "metadata": {},
   "outputs": [],
   "source": [
    "data = [[row[1],row[2],row[3],row[4],row[5],row[6],row[7],row[0],row[8],row[9]]for row in data]\n"
   ]
  },
  {
   "cell_type": "code",
   "execution_count": 101,
   "metadata": {},
   "outputs": [
    {
     "name": "stdout",
     "output_type": "stream",
     "text": [
      "Melo\n"
     ]
    }
   ],
   "source": [
    "import csv\n",
    "Requerimiento1 = [['Nombre de la estación' ,'Fecha en el formato YYYY-MM-DD' ,'Año' ,'Mes' ,'Dia', 'HHMMSS' ,'Hora (HH)' ,'Minuto (MM)','Dirección' ,'Velocidad']]\n",
    "with open('files/06/Requerimiento1.csv','w',newline = '')as ejer1:\n",
    "    writer = csv.writer(ejer1,delimiter = ';')\n",
    "    writer.writerows(Requerimiento1)\n",
    "    writer.writerows(data)\n",
    "    print('Melo')"
   ]
  }
 ],
 "metadata": {
  "kernelspec": {
   "display_name": "Python 3",
   "language": "python",
   "name": "python3"
  },
  "language_info": {
   "codemirror_mode": {
    "name": "ipython",
    "version": 3
   },
   "file_extension": ".py",
   "mimetype": "text/x-python",
   "name": "python",
   "nbconvert_exporter": "python",
   "pygments_lexer": "ipython3",
   "version": "3.7.4"
  }
 },
 "nbformat": 4,
 "nbformat_minor": 2
}
